{
  "cells": [
    {
      "cell_type": "code",
      "source": [
        "# Parameters\n",
        "# The batch size, number of training epochs and location of the data files is defined here. \n",
        "# Data files are hosted in a Google Cloud Storage (GCS) bucket which is why their address starts with gs://.\n",
        "\n",
        "BATCH_SIZE = 128\n",
        "EPOCHS = 10\n",
        "\n",
        "training_images_file   = 'gs://mnist-public/train-images-idx3-ubyte'\n",
        "training_labels_file   = 'gs://mnist-public/train-labels-idx1-ubyte'\n",
        "validation_images_file = 'gs://mnist-public/t10k-images-idx3-ubyte'\n",
        "validation_labels_file = 'gs://mnist-public/t10k-labels-idx1-ubyte'"
      ],
      "metadata": {
        "id": "B15xRwT8ceKN"
      },
      "execution_count": 16,
      "outputs": []
    },
    {
      "cell_type": "code",
      "source": [
        "# Imports\n",
        "# All the necessary Python libraries are imported here, including TensorFlow.\n",
        "\n",
        "import os, re, math, json, shutil, pprint\n",
        "import numpy as np\n",
        "import tensorflow as tf\n",
        "print(\"Tensorflow version \" + tf.__version__)"
      ],
      "metadata": {
        "colab": {
          "base_uri": "https://localhost:8080/"
        },
        "id": "IVk5axPPel2o",
        "outputId": "f710a4df-bdcc-431a-fd96-bac869585eea"
      },
      "execution_count": 17,
      "outputs": [
        {
          "output_type": "stream",
          "name": "stdout",
          "text": [
            "Tensorflow version 2.9.2\n"
          ]
        }
      ]
    },
    {
      "cell_type": "code",
      "source": [
        "# Parse files and prepare training and validation datasets.\n",
        "\n",
        "AUTO = tf.data.experimental.AUTOTUNE\n",
        "\n",
        "def read_label(tf_bytestring):\n",
        "    label = tf.io.decode_raw(tf_bytestring, tf.uint8)\n",
        "    label = tf.reshape(label, [])\n",
        "    label = tf.one_hot(label, 10)\n",
        "    return label\n",
        "  \n",
        "def read_image(tf_bytestring):\n",
        "    image = tf.io.decode_raw(tf_bytestring, tf.uint8)\n",
        "    image = tf.cast(image, tf.float32)/256.0\n",
        "    image = tf.reshape(image, [28*28])\n",
        "    return image"
      ],
      "metadata": {
        "id": "PiuajYJ7fBJf"
      },
      "execution_count": 18,
      "outputs": []
    },
    {
      "cell_type": "code",
      "source": [
        "# Apply this function to the dataset using .map and obtain a dataset of images.\n",
        "# The same kind of reading and decoding for is done using .zip for images and labels.\n",
        "\n",
        "def load_dataset(image_file, label_file):\n",
        "    imagedataset = tf.data.FixedLengthRecordDataset(image_file, 28*28, header_bytes=16)\n",
        "    imagedataset = imagedataset.map(read_image, num_parallel_calls=16)\n",
        "    labelsdataset = tf.data.FixedLengthRecordDataset(label_file, 1, header_bytes=8)\n",
        "    labelsdataset = labelsdataset.map(read_label, num_parallel_calls=16)\n",
        "    dataset = tf.data.Dataset.zip((imagedataset, labelsdataset))\n",
        "    return dataset "
      ],
      "metadata": {
        "id": "Yb9-x13mfJHn"
      },
      "execution_count": 19,
      "outputs": []
    },
    {
      "cell_type": "code",
      "source": [
        "# Training dataset\n",
        "# The tf.data.Dataset API has all the necessary utility functions for preparing datasets.\n",
        "# .cache caches the dataset in RAM\n",
        "# .shuffle shuffles it with a buffer of 5000 elements\n",
        "# .repeat loops the dataset\n",
        "# .batch pulls multiple images and labels together into a mini-batch\n",
        "# .prefetch can use the CPU to prepare the next batch while the current batch is being trained on the GPU\n",
        "# The validation dataset is prepared in a similar way.\n",
        "\n",
        "def get_training_dataset(image_file, label_file, batch_size):\n",
        "    dataset = load_dataset(image_file, label_file)\n",
        "    dataset = dataset.cache()  # this small dataset can be entirely cached in RAM, for TPU this is important to get good performance from such a small dataset\n",
        "    dataset = dataset.shuffle(5000, reshuffle_each_iteration=True)\n",
        "    dataset = dataset.repeat() # Mandatory for Keras for now\n",
        "    dataset = dataset.batch(batch_size, drop_remainder=True) # drop_remainder is important on TPU, batch size must be fixed\n",
        "    dataset = dataset.prefetch(AUTO)  # fetch next batches while training on the current one (-1: autotune prefetch buffer size)\n",
        "    return dataset\n",
        "  \n",
        "def get_validation_dataset(image_file, label_file):\n",
        "    dataset = load_dataset(image_file, label_file)\n",
        "    dataset = dataset.cache() # this small dataset can be entirely cached in RAM, for TPU this is important to get good performance from such a small dataset\n",
        "    dataset = dataset.batch(10000, drop_remainder=True) # 10000 items in eval dataset, all in one batch\n",
        "    dataset = dataset.repeat() # Mandatory for Keras for now\n",
        "    return dataset\n",
        "\n",
        "# instantiate the datasets\n",
        "training_dataset = get_training_dataset(training_images_file, training_labels_file, BATCH_SIZE)\n",
        "validation_dataset = get_validation_dataset(validation_images_file, validation_labels_file)\n",
        "\n",
        "# For TPU, we will need a function that returns the dataset\n",
        "training_input_fn = lambda: get_training_dataset(training_images_file, training_labels_file, BATCH_SIZE)\n",
        "validation_input_fn = lambda: get_validation_dataset(validation_images_file, validation_labels_file)"
      ],
      "metadata": {
        "id": "g2CfB0VcfWyc"
      },
      "execution_count": 20,
      "outputs": []
    },
    {
      "cell_type": "code",
      "source": [
        "# Keras Model\n",
        "# The models will be straight sequences of layers so tf.keras.Sequential is used to create them. \n",
        "# There are 10 neurons because we are classifying handwritten digits into 10 classes.\n",
        "# A Keras model also needs to know the shape of its inputs, tf.keras.layers.Input can be used to define it.\n",
        "# Configuring the model is done in Keras using the model.compile function. \n",
        "# A classification model requires a cross-entropy loss function, called 'categorical_crossentropy' in Keras. \n",
        "# The model computes the 'accuracy' metric, which is the percentage of correctly classified images.\n",
        "\n",
        "model = tf.keras.Sequential(\n",
        "  [\n",
        "      tf.keras.layers.Input(shape=(28*28,)),\n",
        "      tf.keras.layers.Dense(200, activation='relu'),\n",
        "      tf.keras.layers.Dense(60, activation='relu'),\n",
        "      tf.keras.layers.Dense(10, activation='softmax')\n",
        "  ]\n",
        ")\n",
        "\n",
        "# To improve the recognition accuracy more layers to the neural network are added.\n",
        "# Softmax as the activation function on the last layer is used because that works best for classification. \n",
        "# On intermediate layers the relu activation function is used because it has a derivative of 1. \n",
        "\n",
        "# In high-dimensional spaces better optimizers are needed so that the gradient descent optimizer is not stuck at saddle points.\n",
        "model.compile(optimizer='adam', loss='categorical_crossentropy', metrics=['accuracy'])\n",
        "\n",
        "# print model layers\n",
        "model.summary()"
      ],
      "metadata": {
        "colab": {
          "base_uri": "https://localhost:8080/"
        },
        "id": "DI-bI2tofr0t",
        "outputId": "d7e55d7c-35ff-46d0-f46d-2c90ef26a21b"
      },
      "execution_count": 21,
      "outputs": [
        {
          "output_type": "stream",
          "name": "stdout",
          "text": [
            "Model: \"sequential_2\"\n",
            "_________________________________________________________________\n",
            " Layer (type)                Output Shape              Param #   \n",
            "=================================================================\n",
            " dense_2 (Dense)             (None, 200)               157000    \n",
            "                                                                 \n",
            " dense_3 (Dense)             (None, 60)                12060     \n",
            "                                                                 \n",
            " dense_4 (Dense)             (None, 10)                610       \n",
            "                                                                 \n",
            "=================================================================\n",
            "Total params: 169,670\n",
            "Trainable params: 169,670\n",
            "Non-trainable params: 0\n",
            "_________________________________________________________________\n"
          ]
        }
      ]
    },
    {
      "cell_type": "code",
      "source": [
        "# Train and validate the model\n",
        "# The training happens by calling model.fit and passing in both the training and validation datasets.\n",
        "\n",
        "steps_per_epoch = 60000//BATCH_SIZE  # 60,000 items in this dataset\n",
        "print(\"Steps per epoch: \", steps_per_epoch)\n",
        "\n",
        "history = model.fit(training_dataset, steps_per_epoch=steps_per_epoch, epochs=EPOCHS, validation_data=validation_dataset, validation_steps=1)"
      ],
      "metadata": {
        "colab": {
          "base_uri": "https://localhost:8080/"
        },
        "id": "zaFzeEvqgEs1",
        "outputId": "cc2da11b-286d-4abd-f3a7-6f5632f46287"
      },
      "execution_count": 22,
      "outputs": [
        {
          "output_type": "stream",
          "name": "stdout",
          "text": [
            "Steps per epoch:  468\n",
            "Epoch 1/10\n",
            "468/468 [==============================] - 8s 15ms/step - loss: 0.2979 - accuracy: 0.9168 - val_loss: 0.1455 - val_accuracy: 0.9560\n",
            "Epoch 2/10\n",
            "468/468 [==============================] - 4s 8ms/step - loss: 0.1224 - accuracy: 0.9641 - val_loss: 0.1099 - val_accuracy: 0.9673\n",
            "Epoch 3/10\n",
            "468/468 [==============================] - 4s 9ms/step - loss: 0.0824 - accuracy: 0.9755 - val_loss: 0.0946 - val_accuracy: 0.9723\n",
            "Epoch 4/10\n",
            "468/468 [==============================] - 4s 9ms/step - loss: 0.0596 - accuracy: 0.9817 - val_loss: 0.0894 - val_accuracy: 0.9715\n",
            "Epoch 5/10\n",
            "468/468 [==============================] - 4s 10ms/step - loss: 0.0459 - accuracy: 0.9859 - val_loss: 0.0806 - val_accuracy: 0.9751\n",
            "Epoch 6/10\n",
            "468/468 [==============================] - 4s 9ms/step - loss: 0.0366 - accuracy: 0.9892 - val_loss: 0.0739 - val_accuracy: 0.9775\n",
            "Epoch 7/10\n",
            "468/468 [==============================] - 4s 8ms/step - loss: 0.0275 - accuracy: 0.9920 - val_loss: 0.0820 - val_accuracy: 0.9757\n",
            "Epoch 8/10\n",
            "468/468 [==============================] - 4s 8ms/step - loss: 0.0223 - accuracy: 0.9930 - val_loss: 0.0806 - val_accuracy: 0.9780\n",
            "Epoch 9/10\n",
            "468/468 [==============================] - 4s 8ms/step - loss: 0.0190 - accuracy: 0.9939 - val_loss: 0.0893 - val_accuracy: 0.9764\n",
            "Epoch 10/10\n",
            "468/468 [==============================] - 4s 8ms/step - loss: 0.0158 - accuracy: 0.9954 - val_loss: 0.0908 - val_accuracy: 0.9767\n"
          ]
        }
      ]
    },
    {
      "cell_type": "code",
      "source": [
        "# The shape of the output tensor is [128, 10] because 128 images are processed and computing the argmax across the 10 probabilities returned for each image, thus axis=1.\n",
        "# This model recognises approximately 97% of the digits."
      ],
      "metadata": {
        "id": "Pw4dzgfnh_o6"
      },
      "execution_count": 23,
      "outputs": []
    }
  ],
  "metadata": {
    "colab": {
      "provenance": [],
      "collapsed_sections": []
    },
    "kernelspec": {
      "display_name": "Python 3",
      "name": "python3"
    },
    "language_info": {
      "name": "python"
    }
  },
  "nbformat": 4,
  "nbformat_minor": 0
}