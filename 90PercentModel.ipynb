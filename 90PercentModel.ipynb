{
  "cells": [
    {
      "cell_type": "code",
      "source": [
        "# Parameters\n",
        "# The batch size, number of training epochs and location of the data files is defined here. \n",
        "# Data files are hosted in a Google Cloud Storage (GCS) bucket which is why their address starts with gs://.\n",
        "\n",
        "BATCH_SIZE = 128\n",
        "EPOCHS = 10\n",
        "\n",
        "training_images_file   = 'gs://mnist-public/train-images-idx3-ubyte'\n",
        "training_labels_file   = 'gs://mnist-public/train-labels-idx1-ubyte'\n",
        "validation_images_file = 'gs://mnist-public/t10k-images-idx3-ubyte'\n",
        "validation_labels_file = 'gs://mnist-public/t10k-labels-idx1-ubyte'"
      ],
      "metadata": {
        "id": "B15xRwT8ceKN"
      },
      "execution_count": 8,
      "outputs": []
    },
    {
      "cell_type": "code",
      "source": [
        "# Imports\n",
        "# All the necessary Python libraries are imported here, including TensorFlow.\n",
        "\n",
        "import os, re, math, json, shutil, pprint\n",
        "import numpy as np\n",
        "import tensorflow as tf\n",
        "print(\"Tensorflow version \" + tf.__version__)"
      ],
      "metadata": {
        "colab": {
          "base_uri": "https://localhost:8080/"
        },
        "id": "IVk5axPPel2o",
        "outputId": "7e5de279-4c47-4f0d-cc27-6080c816c7b2"
      },
      "execution_count": 9,
      "outputs": [
        {
          "output_type": "stream",
          "name": "stdout",
          "text": [
            "Tensorflow version 2.9.2\n"
          ]
        }
      ]
    },
    {
      "cell_type": "code",
      "source": [
        "# Parse files and prepare training and validation datasets.\n",
        "\n",
        "AUTO = tf.data.experimental.AUTOTUNE\n",
        "\n",
        "def read_label(tf_bytestring):\n",
        "    label = tf.io.decode_raw(tf_bytestring, tf.uint8)\n",
        "    label = tf.reshape(label, [])\n",
        "    label = tf.one_hot(label, 10)\n",
        "    return label\n",
        "  \n",
        "def read_image(tf_bytestring):\n",
        "    image = tf.io.decode_raw(tf_bytestring, tf.uint8)\n",
        "    image = tf.cast(image, tf.float32)/256.0\n",
        "    image = tf.reshape(image, [28*28])\n",
        "    return image"
      ],
      "metadata": {
        "id": "PiuajYJ7fBJf"
      },
      "execution_count": 10,
      "outputs": []
    },
    {
      "cell_type": "code",
      "source": [
        "# Apply this function to the dataset using .map and obtain a dataset of images.\n",
        "# The same kind of reading and decoding for is done using .zip for images and labels.\n",
        "\n",
        "def load_dataset(image_file, label_file):\n",
        "    imagedataset = tf.data.FixedLengthRecordDataset(image_file, 28*28, header_bytes=16)\n",
        "    imagedataset = imagedataset.map(read_image, num_parallel_calls=16)\n",
        "    labelsdataset = tf.data.FixedLengthRecordDataset(label_file, 1, header_bytes=8)\n",
        "    labelsdataset = labelsdataset.map(read_label, num_parallel_calls=16)\n",
        "    dataset = tf.data.Dataset.zip((imagedataset, labelsdataset))\n",
        "    return dataset "
      ],
      "metadata": {
        "id": "Yb9-x13mfJHn"
      },
      "execution_count": 11,
      "outputs": []
    },
    {
      "cell_type": "code",
      "source": [
        "# Training dataset\n",
        "# The tf.data.Dataset API has all the necessary utility functions for preparing datasets.\n",
        "# .cache caches the dataset in RAM\n",
        "# .shuffle shuffles it with a buffer of 5000 elements\n",
        "# .repeat loops the dataset\n",
        "# .batch pulls multiple images and labels together into a mini-batch\n",
        "# .prefetch can use the CPU to prepare the next batch while the current batch is being trained on the GPU\n",
        "# The validation dataset is prepared in a similar way.\n",
        "\n",
        "def get_training_dataset(image_file, label_file, batch_size):\n",
        "    dataset = load_dataset(image_file, label_file)\n",
        "    dataset = dataset.cache()  # this small dataset can be entirely cached in RAM, for TPU this is important to get good performance from such a small dataset\n",
        "    dataset = dataset.shuffle(5000, reshuffle_each_iteration=True)\n",
        "    dataset = dataset.repeat() # Mandatory for Keras for now\n",
        "    dataset = dataset.batch(batch_size, drop_remainder=True) # drop_remainder is important on TPU, batch size must be fixed\n",
        "    dataset = dataset.prefetch(AUTO)  # fetch next batches while training on the current one (-1: autotune prefetch buffer size)\n",
        "    return dataset\n",
        "  \n",
        "def get_validation_dataset(image_file, label_file):\n",
        "    dataset = load_dataset(image_file, label_file)\n",
        "    dataset = dataset.cache() # this small dataset can be entirely cached in RAM, for TPU this is important to get good performance from such a small dataset\n",
        "    dataset = dataset.batch(10000, drop_remainder=True) # 10000 items in eval dataset, all in one batch\n",
        "    dataset = dataset.repeat() # Mandatory for Keras for now\n",
        "    return dataset\n",
        "\n",
        "# instantiate the datasets\n",
        "training_dataset = get_training_dataset(training_images_file, training_labels_file, BATCH_SIZE)\n",
        "validation_dataset = get_validation_dataset(validation_images_file, validation_labels_file)\n",
        "\n",
        "# For TPU, we will need a function that returns the dataset\n",
        "training_input_fn = lambda: get_training_dataset(training_images_file, training_labels_file, BATCH_SIZE)\n",
        "validation_input_fn = lambda: get_validation_dataset(validation_images_file, validation_labels_file)"
      ],
      "metadata": {
        "id": "g2CfB0VcfWyc"
      },
      "execution_count": 12,
      "outputs": []
    },
    {
      "cell_type": "code",
      "source": [
        "# Keras Model\n",
        "# The models will be straight sequences of layers so tf.keras.Sequential is used to create them. \n",
        "# There are 10 neurons because we are classifying handwritten digits into 10 classes.\n",
        "# It uses \"softmax\" activation because it is the last layer in a classifier.\n",
        "# A Keras model also needs to know the shape of its inputs, tf.keras.layers.Input can be used to define it.\n",
        "# Configuring the model is done in Keras using the model.compile function. \n",
        "# Here we use the basic optimizer 'sgd' (Stochastic Gradient Descent). \n",
        "# A classification model requires a cross-entropy loss function, called 'categorical_crossentropy' in Keras. \n",
        "# The model computes the 'accuracy' metric, which is the percentage of correctly classified images.\n",
        "\n",
        "model = tf.keras.Sequential(\n",
        "  [\n",
        "      tf.keras.layers.Input(shape=(28*28,)),\n",
        "      tf.keras.layers.Dense(10, activation='softmax')\n",
        "  ]\n",
        ")\n",
        "\n",
        "model.compile(optimizer='sgd', loss='categorical_crossentropy', metrics=['accuracy'])\n",
        "\n",
        "# print model layers\n",
        "model.summary()"
      ],
      "metadata": {
        "colab": {
          "base_uri": "https://localhost:8080/"
        },
        "id": "DI-bI2tofr0t",
        "outputId": "db3f3a50-f73c-44cb-e930-51e4dd2fb8e1"
      },
      "execution_count": 13,
      "outputs": [
        {
          "output_type": "stream",
          "name": "stdout",
          "text": [
            "Model: \"sequential_1\"\n",
            "_________________________________________________________________\n",
            " Layer (type)                Output Shape              Param #   \n",
            "=================================================================\n",
            " dense_1 (Dense)             (None, 10)                7850      \n",
            "                                                                 \n",
            "=================================================================\n",
            "Total params: 7,850\n",
            "Trainable params: 7,850\n",
            "Non-trainable params: 0\n",
            "_________________________________________________________________\n"
          ]
        }
      ]
    },
    {
      "cell_type": "code",
      "source": [
        "# Train and validate the model\n",
        "# The training happens by calling model.fit and passing in both the training and validation datasets.\n",
        "\n",
        "steps_per_epoch = 60000//BATCH_SIZE  # 60,000 items in this dataset\n",
        "print(\"Steps per epoch: \", steps_per_epoch)\n",
        "\n",
        "history = model.fit(training_dataset, steps_per_epoch=steps_per_epoch, epochs=EPOCHS, validation_data=validation_dataset, validation_steps=1)"
      ],
      "metadata": {
        "colab": {
          "base_uri": "https://localhost:8080/"
        },
        "id": "zaFzeEvqgEs1",
        "outputId": "ec7022c5-5bdc-4a7d-edf7-b82ffcc293d8"
      },
      "execution_count": 14,
      "outputs": [
        {
          "output_type": "stream",
          "name": "stdout",
          "text": [
            "Steps per epoch:  468\n",
            "Epoch 1/10\n",
            "468/468 [==============================] - 7s 12ms/step - loss: 1.2971 - accuracy: 0.6872 - val_loss: 0.8233 - val_accuracy: 0.8343\n",
            "Epoch 2/10\n",
            "468/468 [==============================] - 2s 4ms/step - loss: 0.7239 - accuracy: 0.8391 - val_loss: 0.6130 - val_accuracy: 0.8628\n",
            "Epoch 3/10\n",
            "468/468 [==============================] - 2s 4ms/step - loss: 0.5907 - accuracy: 0.8590 - val_loss: 0.5294 - val_accuracy: 0.8749\n",
            "Epoch 4/10\n",
            "468/468 [==============================] - 2s 4ms/step - loss: 0.5281 - accuracy: 0.8689 - val_loss: 0.4827 - val_accuracy: 0.8815\n",
            "Epoch 5/10\n",
            "468/468 [==============================] - 2s 4ms/step - loss: 0.4896 - accuracy: 0.8749 - val_loss: 0.4523 - val_accuracy: 0.8858\n",
            "Epoch 6/10\n",
            "468/468 [==============================] - 2s 4ms/step - loss: 0.4636 - accuracy: 0.8793 - val_loss: 0.4307 - val_accuracy: 0.8889\n",
            "Epoch 7/10\n",
            "468/468 [==============================] - 2s 4ms/step - loss: 0.4441 - accuracy: 0.8830 - val_loss: 0.4144 - val_accuracy: 0.8917\n",
            "Epoch 8/10\n",
            "468/468 [==============================] - 2s 4ms/step - loss: 0.4289 - accuracy: 0.8861 - val_loss: 0.4015 - val_accuracy: 0.8947\n",
            "Epoch 9/10\n",
            "468/468 [==============================] - 2s 4ms/step - loss: 0.4171 - accuracy: 0.8879 - val_loss: 0.3909 - val_accuracy: 0.8975\n",
            "Epoch 10/10\n",
            "468/468 [==============================] - 2s 4ms/step - loss: 0.4065 - accuracy: 0.8904 - val_loss: 0.3823 - val_accuracy: 0.8984\n"
          ]
        }
      ]
    },
    {
      "cell_type": "code",
      "source": [
        "# The shape of the output tensor is [128, 10] because 128 images are processed and computing the argmax across the 10 probabilities returned for each image, thus axis=1.\n",
        "# This model recognises approximately 90% of the digits."
      ],
      "metadata": {
        "id": "Pw4dzgfnh_o6"
      },
      "execution_count": 15,
      "outputs": []
    }
  ],
  "metadata": {
    "colab": {
      "provenance": []
    },
    "kernelspec": {
      "display_name": "Python 3",
      "name": "python3"
    },
    "language_info": {
      "name": "python"
    }
  },
  "nbformat": 4,
  "nbformat_minor": 0
}